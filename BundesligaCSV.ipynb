{
 "cells": [
  {
   "cell_type": "code",
   "execution_count": 30,
   "id": "8c9f7fd3",
   "metadata": {},
   "outputs": [],
   "source": [
    "from pyspark.sql import SparkSession\n",
    "from pyspark.sql import SparkSession, Window, Row\n",
    "from pyspark.sql.functions import *\n",
    "from pyspark.sql.types import *\n",
    "import matplotlib.pyplot as plt"
   ]
  },
  {
   "cell_type": "code",
   "execution_count": 5,
   "id": "c68f3617",
   "metadata": {},
   "outputs": [],
   "source": [
    "spark = SparkSession \\\n",
    "    .builder \\\n",
    "    .appName(\"PythonSparkSQLFighting\") \\\n",
    "    .getOrCreate()"
   ]
  },
  {
   "cell_type": "code",
   "execution_count": 12,
   "id": "fef26e57",
   "metadata": {},
   "outputs": [],
   "source": [
    "def load_spark_dataframe(file_path):\n",
    "    return spark.read.format('csv').options(header='true', inframe=True).load(file_path)"
   ]
  },
  {
   "cell_type": "code",
   "execution_count": 13,
   "id": "d3c51ef8",
   "metadata": {},
   "outputs": [],
   "source": [
    "df_matches = load_spark_dataframe('./Data/Matches.csv')"
   ]
  },
  {
   "cell_type": "code",
   "execution_count": 28,
   "id": "efe4ce31",
   "metadata": {},
   "outputs": [
    {
     "name": "stdout",
     "output_type": "stream",
     "text": [
      "+--------+---+------+----------+-------------+--------------+-------------+-------------+-----------+\n",
      "|Match_ID|Div|Season|      Date|     HomeTeam|      AwayTeam|HomeTeamGoals|AwayTeamGoals|FinalResult|\n",
      "+--------+---+------+----------+-------------+--------------+-------------+-------------+-----------+\n",
      "|       1| D2|  2009|2010-04-04|   Oberhausen|Kaiserslautern|            2|            1|          H|\n",
      "|       2| D2|  2009|2009-11-01|  Munich 1860|Kaiserslautern|            0|            1|          A|\n",
      "|       3| D2|  2009|2009-10-04|Frankfurt FSV|Kaiserslautern|            1|            1|          D|\n",
      "|       4| D2|  2009|2010-02-21|Frankfurt FSV|     Karlsruhe|            2|            1|          H|\n",
      "|       5| D2|  2009|2009-12-06|        Ahlen|     Karlsruhe|            1|            3|          A|\n",
      "+--------+---+------+----------+-------------+--------------+-------------+-------------+-----------+\n",
      "\n"
     ]
    }
   ],
   "source": [
    "df_matches.limit(5).show()"
   ]
  },
  {
   "cell_type": "code",
   "execution_count": 25,
   "id": "888e44a7",
   "metadata": {},
   "outputs": [],
   "source": [
    "old_cols = df_matches.columns[-3:]\n",
    "new_cols = [\"HomeTeamGoals\", \"AwayTeamGoals\", \"FinalResult\"]\n",
    "old_new_cols = [*zip(old_cols, new_cols)] \n",
    "for old_col, new_col in old_new_cols:\n",
    "    df_matches = df_matches.withColumnRenamed(old_col, new_col)"
   ]
  },
  {
   "cell_type": "code",
   "execution_count": 31,
   "id": "921aa830",
   "metadata": {},
   "outputs": [],
   "source": [
    "df_matches = df_matches \\\n",
    "            .withColumn('HomeTeamWin', when (col('FinalResult') == 'H', 1).otherwise(0)) \\\n",
    "            .withColumn('AwayTeamWin', when (col('FinalResult') == 'A', 1).otherwise(0)) \\\n",
    "            .withColumn('GameTie', when (col('FinalResult') == 'D', 1).otherwise(0))"
   ]
  },
  {
   "cell_type": "code",
   "execution_count": 35,
   "id": "1b75cd19",
   "metadata": {},
   "outputs": [
    {
     "data": {
      "text/plain": [
       "24625"
      ]
     },
     "execution_count": 35,
     "metadata": {},
     "output_type": "execute_result"
    }
   ],
   "source": [
    "df_matches.count()"
   ]
  },
  {
   "cell_type": "code",
   "execution_count": 36,
   "id": "90f4f17c",
   "metadata": {},
   "outputs": [],
   "source": [
    "bundesliga = df_matches.filter((col('Season')>=2000) & \n",
    "                               (col('Season')<=2010) &\n",
    "                               (col('Div')=='D1'))"
   ]
  },
  {
   "cell_type": "code",
   "execution_count": 39,
   "id": "7ce09f83",
   "metadata": {},
   "outputs": [
    {
     "name": "stdout",
     "output_type": "stream",
     "text": [
      "+--------+---+------+----------+-------------+----------+-------------+-------------+-----------+-----------+-----------+-------+\n",
      "|Match_ID|Div|Season|      Date|     HomeTeam|  AwayTeam|HomeTeamGoals|AwayTeamGoals|FinalResult|HomeTeamWin|AwayTeamWin|GameTie|\n",
      "+--------+---+------+----------+-------------+----------+-------------+-------------+-----------+-----------+-----------+-------+\n",
      "|      21| D1|  2009|2010-02-06|       Bochum|Leverkusen|            1|            1|          D|          0|          0|      1|\n",
      "|      22| D1|  2009|2009-11-22|Bayern Munich|Leverkusen|            1|            1|          D|          0|          0|      1|\n",
      "|      23| D1|  2009|2010-05-08|   M'gladbach|Leverkusen|            1|            1|          D|          0|          0|      1|\n",
      "|      24| D1|  2009|2009-08-08|        Mainz|Leverkusen|            2|            2|          D|          0|          0|      1|\n",
      "|      25| D1|  2009|2009-10-17|      Hamburg|Leverkusen|            0|            0|          D|          0|          0|      1|\n",
      "+--------+---+------+----------+-------------+----------+-------------+-------------+-----------+-----------+-----------+-------+\n",
      "only showing top 5 rows\n",
      "\n"
     ]
    }
   ],
   "source": [
    "bundesliga.show(5)"
   ]
  },
  {
   "cell_type": "code",
   "execution_count": 40,
   "id": "c8b1556c",
   "metadata": {},
   "outputs": [],
   "source": [
    "home = bundesliga.groupby('Season', 'HomeTeam') \\\n",
    "        .agg(sum('HomeTeamWin').alias('TotalHomeWin'),\n",
    "             sum('AwayTeamWin').alias('TotalHomeLoss'),\n",
    "            sum('GameTie').alias('TotalHomeTie'),\n",
    "            sum('HomeTeamGoals').alias('HomeScoredGoals'),\n",
    "            sum('AwayTeamGoals').alias('HomeAgainstGoals')) \\\n",
    "       .withColumnRenamed('HomeTeam', 'Team')"
   ]
  },
  {
   "cell_type": "code",
   "execution_count": 41,
   "id": "4d666cfe",
   "metadata": {},
   "outputs": [
    {
     "name": "stdout",
     "output_type": "stream",
     "text": [
      "+------+--------------+------------+-------------+------------+---------------+----------------+\n",
      "|Season|          Team|TotalHomeWin|TotalHomeLoss|TotalHomeTie|HomeScoredGoals|HomeAgainstGoals|\n",
      "+------+--------------+------------+-------------+------------+---------------+----------------+\n",
      "|  2005|Kaiserslautern|           5|            7|           5|           26.0|            33.0|\n",
      "|  2006|       Cottbus|           6|            6|           5|           21.0|            22.0|\n",
      "|  2001|      St Pauli|           4|            9|           4|           19.0|            28.0|\n",
      "|  2005|         Mainz|           6|            4|           7|           31.0|            23.0|\n",
      "|  2006|       Hamburg|           4|            4|           9|           22.0|            19.0|\n",
      "+------+--------------+------------+-------------+------------+---------------+----------------+\n",
      "only showing top 5 rows\n",
      "\n"
     ]
    }
   ],
   "source": [
    "home.show(5)"
   ]
  },
  {
   "cell_type": "code",
   "execution_count": 42,
   "id": "73d5c2b8",
   "metadata": {},
   "outputs": [],
   "source": [
    "away = bundesliga.groupby('Season', 'AwayTeam') \\\n",
    "        .agg(sum('AwayTeamWin').alias('TotalAwayWin'),\n",
    "             sum('HomeTeamWin').alias('TotalAwayLoss'),\n",
    "            sum('GameTie').alias('TotalAwayTie'),\n",
    "            sum('AwayTeamGoals').alias('AwayScoredGoals'),\n",
    "            sum('HomeTeamGoals').alias('AwayAgainstGoals')) \\\n",
    "       .withColumnRenamed('AwayTeam', 'Team')"
   ]
  },
  {
   "cell_type": "code",
   "execution_count": 43,
   "id": "cd41ea62",
   "metadata": {},
   "outputs": [
    {
     "name": "stdout",
     "output_type": "stream",
     "text": [
      "+------+--------------+------------+-------------+------------+---------------+----------------+\n",
      "|Season|          Team|TotalAwayWin|TotalAwayLoss|TotalAwayTie|AwayScoredGoals|AwayAgainstGoals|\n",
      "+------+--------------+------------+-------------+------------+---------------+----------------+\n",
      "|  2005|Kaiserslautern|           3|           10|           4|           21.0|            38.0|\n",
      "|  2006|       Cottbus|           5|            9|           3|           17.0|            27.0|\n",
      "|  2001|      St Pauli|           0|           11|           6|           18.0|            42.0|\n",
      "|  2005|         Mainz|           3|           10|           4|           15.0|            24.0|\n",
      "|  2006|       Hamburg|           6|            5|           6|           21.0|            18.0|\n",
      "+------+--------------+------------+-------------+------------+---------------+----------------+\n",
      "only showing top 5 rows\n",
      "\n"
     ]
    }
   ],
   "source": [
    "away.show(5)"
   ]
  },
  {
   "cell_type": "code",
   "execution_count": 44,
   "id": "b5cd0646",
   "metadata": {},
   "outputs": [],
   "source": [
    "window = ['Season']\n",
    "window = Window.partitionBy(window).orderBy(col('WinPct').desc(), col('GoalDifferentials').desc())"
   ]
  },
  {
   "cell_type": "code",
   "execution_count": 50,
   "id": "728f321d",
   "metadata": {},
   "outputs": [],
   "source": [
    "table = home.join(away, ['Team', 'Season'],  'inner') \\\n",
    "    .withColumn('GoalsScored', col('HomeScoredGoals') + col('AwayScoredGoals')) \\\n",
    "    .withColumn('GoalsAgainst', col('HomeAgainstGoals') + col('AwayAgainstGoals')) \\\n",
    "    .withColumn('GoalDifferentials', col('GoalsScored') - col('GoalsAgainst')) \\\n",
    "    .withColumn('Win', col('TotalHomeWin') + col('TotalAwayWin')) \\\n",
    "    .withColumn('Loss', col('TotalHomeLoss') + col('TotalAwayLoss')) \\\n",
    "    .withColumn('Tie', col('TotalHomeTie') + col('TotalAwayTie')) \\\n",
    "    .withColumn('WinPct', round((100* col('Win')/(col('Win') + col('Loss') + col('Tie'))), 2)) \\\n",
    "    .drop('HomeScoredGoals', 'AwayScoredGoals', 'HomeAgainstGoals', 'AwayAgainstGoals') \\\n",
    "    .drop('TotalHomeWin', 'TotalAwayWin', 'TotalHomeLoss', 'TotalAwayLoss', 'TotalHomeTie', 'TotalAwayTie') \\\n",
    "    .withColumn('TeamPosition', rank().over(window)) \\\n",
    "    .withColumn('Pts', 3*col('Win')+col('Tie'))\n"
   ]
  },
  {
   "cell_type": "code",
   "execution_count": 51,
   "id": "eaa6de61",
   "metadata": {},
   "outputs": [
    {
     "name": "stdout",
     "output_type": "stream",
     "text": [
      "+--------------+------+-----------+------------+-----------------+---+----+---+------+------------+---+\n",
      "|          Team|Season|GoalsScored|GoalsAgainst|GoalDifferentials|Win|Loss|Tie|WinPct|TeamPosition|Pts|\n",
      "+--------------+------+-----------+------------+-----------------+---+----+---+------+------------+---+\n",
      "| Bayern Munich|  2000|       62.0|        37.0|             25.0| 19|   9|  6| 55.88|           1| 63|\n",
      "|    Schalke 04|  2000|       65.0|        35.0|             30.0| 18|   8|  8| 52.94|           2| 62|\n",
      "|        Hertha|  2000|       58.0|        52.0|              6.0| 18|  14|  2| 52.94|           3| 56|\n",
      "|    Leverkusen|  2000|       54.0|        40.0|             14.0| 17|  11|  6|  50.0|           4| 57|\n",
      "|      Dortmund|  2000|       62.0|        42.0|             20.0| 16|   8| 10| 47.06|           5| 58|\n",
      "|      Freiburg|  2000|       54.0|        37.0|             17.0| 15|   9| 10| 44.12|           6| 55|\n",
      "| Werder Bremen|  2000|       53.0|        48.0|              5.0| 15|  11|  8| 44.12|           7| 53|\n",
      "|Kaiserslautern|  2000|       49.0|        54.0|             -5.0| 15|  14|  5| 44.12|           8| 50|\n",
      "|     Wolfsburg|  2000|       60.0|        45.0|             15.0| 12|  11| 11| 35.29|           9| 47|\n",
      "|       FC Koln|  2000|       59.0|        52.0|              7.0| 12|  12| 10| 35.29|          10| 46|\n",
      "|   Munich 1860|  2000|       43.0|        55.0|            -12.0| 12|  14|  8| 35.29|          11| 44|\n",
      "| Hansa Rostock|  2000|       34.0|        47.0|            -13.0| 12|  15|  7| 35.29|          12| 43|\n",
      "|       Cottbus|  2000|       38.0|        52.0|            -14.0| 12|  19|  3| 35.29|          13| 39|\n",
      "|       Hamburg|  2000|       58.0|        58.0|              0.0| 10|  13| 11| 29.41|          14| 41|\n",
      "| Ein Frankfurt|  2000|       41.0|        68.0|            -27.0| 10|  19|  5| 29.41|          15| 35|\n",
      "|     Stuttgart|  2000|       42.0|        49.0|             -7.0|  9|  14| 11| 26.47|          16| 38|\n",
      "|  Unterhaching|  2000|       35.0|        59.0|            -24.0|  8|  15| 11| 23.53|          17| 35|\n",
      "|        Bochum|  2000|       30.0|        67.0|            -37.0|  7|  21|  6| 20.59|          18| 27|\n",
      "|    Leverkusen|  2001|       77.0|        38.0|             39.0| 21|   7|  6| 61.76|           1| 69|\n",
      "|      Dortmund|  2001|       62.0|        33.0|             29.0| 21|   6|  7| 61.76|           2| 70|\n",
      "+--------------+------+-----------+------------+-----------------+---+----+---+------+------------+---+\n",
      "only showing top 20 rows\n",
      "\n"
     ]
    }
   ],
   "source": [
    "table.show()"
   ]
  },
  {
   "cell_type": "code",
   "execution_count": 74,
   "id": "7bb56976",
   "metadata": {},
   "outputs": [],
   "source": [
    "table_df = table.filter(col('TeamPosition') == 1).orderBy(asc('Season'))"
   ]
  },
  {
   "cell_type": "code",
   "execution_count": 75,
   "id": "4b6dad77",
   "metadata": {},
   "outputs": [
    {
     "data": {
      "text/html": [
       "<div>\n",
       "<style scoped>\n",
       "    .dataframe tbody tr th:only-of-type {\n",
       "        vertical-align: middle;\n",
       "    }\n",
       "\n",
       "    .dataframe tbody tr th {\n",
       "        vertical-align: top;\n",
       "    }\n",
       "\n",
       "    .dataframe thead th {\n",
       "        text-align: right;\n",
       "    }\n",
       "</style>\n",
       "<table border=\"1\" class=\"dataframe\">\n",
       "  <thead>\n",
       "    <tr style=\"text-align: right;\">\n",
       "      <th></th>\n",
       "      <th>Team</th>\n",
       "      <th>Season</th>\n",
       "      <th>GoalsScored</th>\n",
       "      <th>GoalsAgainst</th>\n",
       "      <th>GoalDifferentials</th>\n",
       "      <th>Win</th>\n",
       "      <th>Loss</th>\n",
       "      <th>Tie</th>\n",
       "      <th>WinPct</th>\n",
       "      <th>TeamPosition</th>\n",
       "      <th>Pts</th>\n",
       "    </tr>\n",
       "  </thead>\n",
       "  <tbody>\n",
       "    <tr>\n",
       "      <th>0</th>\n",
       "      <td>Bayern Munich</td>\n",
       "      <td>2000</td>\n",
       "      <td>62.0</td>\n",
       "      <td>37.0</td>\n",
       "      <td>25.0</td>\n",
       "      <td>19</td>\n",
       "      <td>9</td>\n",
       "      <td>6</td>\n",
       "      <td>55.88</td>\n",
       "      <td>1</td>\n",
       "      <td>63</td>\n",
       "    </tr>\n",
       "    <tr>\n",
       "      <th>1</th>\n",
       "      <td>Leverkusen</td>\n",
       "      <td>2001</td>\n",
       "      <td>77.0</td>\n",
       "      <td>38.0</td>\n",
       "      <td>39.0</td>\n",
       "      <td>21</td>\n",
       "      <td>7</td>\n",
       "      <td>6</td>\n",
       "      <td>61.76</td>\n",
       "      <td>1</td>\n",
       "      <td>69</td>\n",
       "    </tr>\n",
       "    <tr>\n",
       "      <th>2</th>\n",
       "      <td>Bayern Munich</td>\n",
       "      <td>2002</td>\n",
       "      <td>70.0</td>\n",
       "      <td>25.0</td>\n",
       "      <td>45.0</td>\n",
       "      <td>23</td>\n",
       "      <td>5</td>\n",
       "      <td>6</td>\n",
       "      <td>67.65</td>\n",
       "      <td>1</td>\n",
       "      <td>75</td>\n",
       "    </tr>\n",
       "    <tr>\n",
       "      <th>3</th>\n",
       "      <td>Werder Bremen</td>\n",
       "      <td>2003</td>\n",
       "      <td>79.0</td>\n",
       "      <td>38.0</td>\n",
       "      <td>41.0</td>\n",
       "      <td>22</td>\n",
       "      <td>4</td>\n",
       "      <td>8</td>\n",
       "      <td>64.71</td>\n",
       "      <td>1</td>\n",
       "      <td>74</td>\n",
       "    </tr>\n",
       "    <tr>\n",
       "      <th>4</th>\n",
       "      <td>Bayern Munich</td>\n",
       "      <td>2004</td>\n",
       "      <td>75.0</td>\n",
       "      <td>33.0</td>\n",
       "      <td>42.0</td>\n",
       "      <td>24</td>\n",
       "      <td>5</td>\n",
       "      <td>5</td>\n",
       "      <td>70.59</td>\n",
       "      <td>1</td>\n",
       "      <td>77</td>\n",
       "    </tr>\n",
       "    <tr>\n",
       "      <th>5</th>\n",
       "      <td>Bayern Munich</td>\n",
       "      <td>2005</td>\n",
       "      <td>67.0</td>\n",
       "      <td>32.0</td>\n",
       "      <td>35.0</td>\n",
       "      <td>22</td>\n",
       "      <td>3</td>\n",
       "      <td>9</td>\n",
       "      <td>64.71</td>\n",
       "      <td>1</td>\n",
       "      <td>75</td>\n",
       "    </tr>\n",
       "    <tr>\n",
       "      <th>6</th>\n",
       "      <td>Stuttgart</td>\n",
       "      <td>2006</td>\n",
       "      <td>61.0</td>\n",
       "      <td>37.0</td>\n",
       "      <td>24.0</td>\n",
       "      <td>21</td>\n",
       "      <td>6</td>\n",
       "      <td>7</td>\n",
       "      <td>61.76</td>\n",
       "      <td>1</td>\n",
       "      <td>70</td>\n",
       "    </tr>\n",
       "    <tr>\n",
       "      <th>7</th>\n",
       "      <td>Bayern Munich</td>\n",
       "      <td>2007</td>\n",
       "      <td>68.0</td>\n",
       "      <td>21.0</td>\n",
       "      <td>47.0</td>\n",
       "      <td>22</td>\n",
       "      <td>2</td>\n",
       "      <td>10</td>\n",
       "      <td>64.71</td>\n",
       "      <td>1</td>\n",
       "      <td>76</td>\n",
       "    </tr>\n",
       "    <tr>\n",
       "      <th>8</th>\n",
       "      <td>Wolfsburg</td>\n",
       "      <td>2008</td>\n",
       "      <td>80.0</td>\n",
       "      <td>41.0</td>\n",
       "      <td>39.0</td>\n",
       "      <td>21</td>\n",
       "      <td>7</td>\n",
       "      <td>6</td>\n",
       "      <td>61.76</td>\n",
       "      <td>1</td>\n",
       "      <td>69</td>\n",
       "    </tr>\n",
       "    <tr>\n",
       "      <th>9</th>\n",
       "      <td>Bayern Munich</td>\n",
       "      <td>2009</td>\n",
       "      <td>72.0</td>\n",
       "      <td>31.0</td>\n",
       "      <td>41.0</td>\n",
       "      <td>20</td>\n",
       "      <td>4</td>\n",
       "      <td>10</td>\n",
       "      <td>58.82</td>\n",
       "      <td>1</td>\n",
       "      <td>70</td>\n",
       "    </tr>\n",
       "    <tr>\n",
       "      <th>10</th>\n",
       "      <td>Dortmund</td>\n",
       "      <td>2010</td>\n",
       "      <td>67.0</td>\n",
       "      <td>22.0</td>\n",
       "      <td>45.0</td>\n",
       "      <td>23</td>\n",
       "      <td>5</td>\n",
       "      <td>6</td>\n",
       "      <td>67.65</td>\n",
       "      <td>1</td>\n",
       "      <td>75</td>\n",
       "    </tr>\n",
       "  </tbody>\n",
       "</table>\n",
       "</div>"
      ],
      "text/plain": [
       "             Team Season  GoalsScored  GoalsAgainst  GoalDifferentials  Win  \\\n",
       "0   Bayern Munich   2000         62.0          37.0               25.0   19   \n",
       "1      Leverkusen   2001         77.0          38.0               39.0   21   \n",
       "2   Bayern Munich   2002         70.0          25.0               45.0   23   \n",
       "3   Werder Bremen   2003         79.0          38.0               41.0   22   \n",
       "4   Bayern Munich   2004         75.0          33.0               42.0   24   \n",
       "5   Bayern Munich   2005         67.0          32.0               35.0   22   \n",
       "6       Stuttgart   2006         61.0          37.0               24.0   21   \n",
       "7   Bayern Munich   2007         68.0          21.0               47.0   22   \n",
       "8       Wolfsburg   2008         80.0          41.0               39.0   21   \n",
       "9   Bayern Munich   2009         72.0          31.0               41.0   20   \n",
       "10       Dortmund   2010         67.0          22.0               45.0   23   \n",
       "\n",
       "    Loss  Tie  WinPct  TeamPosition  Pts  \n",
       "0      9    6   55.88             1   63  \n",
       "1      7    6   61.76             1   69  \n",
       "2      5    6   67.65             1   75  \n",
       "3      4    8   64.71             1   74  \n",
       "4      5    5   70.59             1   77  \n",
       "5      3    9   64.71             1   75  \n",
       "6      6    7   61.76             1   70  \n",
       "7      2   10   64.71             1   76  \n",
       "8      7    6   61.76             1   69  \n",
       "9      4   10   58.82             1   70  \n",
       "10     5    6   67.65             1   75  "
      ]
     },
     "execution_count": 75,
     "metadata": {},
     "output_type": "execute_result"
    }
   ],
   "source": [
    "table_df.toPandas()"
   ]
  },
  {
   "cell_type": "code",
   "execution_count": null,
   "id": "a6df181d",
   "metadata": {},
   "outputs": [],
   "source": []
  }
 ],
 "metadata": {
  "kernelspec": {
   "display_name": "Python 3 (ipykernel)",
   "language": "python",
   "name": "python3"
  },
  "language_info": {
   "codemirror_mode": {
    "name": "ipython",
    "version": 3
   },
   "file_extension": ".py",
   "mimetype": "text/x-python",
   "name": "python",
   "nbconvert_exporter": "python",
   "pygments_lexer": "ipython3",
   "version": "3.9.13"
  }
 },
 "nbformat": 4,
 "nbformat_minor": 5
}
